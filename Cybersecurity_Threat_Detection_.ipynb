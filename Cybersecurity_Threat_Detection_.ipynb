{
  "nbformat": 4,
  "nbformat_minor": 0,
  "metadata": {
    "colab": {
      "provenance": []
    },
    "kernelspec": {
      "name": "python3",
      "display_name": "Python 3"
    },
    "language_info": {
      "name": "python"
    }
  },
  "cells": [
    {
      "cell_type": "code",
      "source": [
        "import pandas as pd\n",
        "from sklearn.ensemble import IsolationForest\n",
        "\n",
        "# Load the CSV file (replace 'your_data.csv' with your dataset)\n",
        "data = pd.read_csv('/content/cs448b_ipasn.csv')\n",
        "\n",
        "# Select the relevant features for analysis (adjust as needed)\n",
        "features = ['feature1', 'feature2', 'feature3']\n",
        "\n",
        "# Create a DataFrame with only the selected features\n",
        "data_subset = data[features]\n",
        "\n",
        "# Initialize the Isolation Forest model\n",
        "model = IsolationForest(contamination=0.05)  # Adjust contamination parameter as needed\n",
        "\n",
        "# Fit the model to the data\n",
        "model.fit(data_subset)\n",
        "\n",
        "# Predict anomalies (-1 for anomalies, 1 for normal data points)\n",
        "predictions = model.predict(data_subset)\n",
        "\n",
        "# Add the predictions as a new column to the original DataFrame\n",
        "data['anomaly_prediction'] = predictions\n",
        "\n",
        "# Save the results to a new CSV file\n",
        "data.to_csv('output.csv', index=False)\n"
      ],
      "metadata": {
        "id": "59jbAvrE3gu4"
      },
      "execution_count": null,
      "outputs": []
    }
  ]
}